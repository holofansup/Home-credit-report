{
 "cells": [
  {
   "cell_type": "code",
   "execution_count": 1,
   "metadata": {},
   "outputs": [],
   "source": [
    "import pandas as pd\n",
    "import numpy as np"
   ]
  },
  {
   "cell_type": "code",
   "execution_count": 2,
   "metadata": {},
   "outputs": [],
   "source": [
    "credit = pd.read_csv('DATA/credit_card_balance.csv/credit_card_balance.csv')"
   ]
  },
  {
   "cell_type": "code",
   "execution_count": 5,
   "metadata": {},
   "outputs": [],
   "source": [
    "credit, categorical_columns = one_hot_encoder(credit, nan_as_category= False)"
   ]
  },
  {
   "cell_type": "code",
   "execution_count": 8,
   "metadata": {},
   "outputs": [
    {
     "data": {
      "text/plain": [
       "['NAME_CONTRACT_STATUS_Active',\n",
       " 'NAME_CONTRACT_STATUS_Approved',\n",
       " 'NAME_CONTRACT_STATUS_Completed',\n",
       " 'NAME_CONTRACT_STATUS_Demand',\n",
       " 'NAME_CONTRACT_STATUS_Refused',\n",
       " 'NAME_CONTRACT_STATUS_Sent proposal',\n",
       " 'NAME_CONTRACT_STATUS_Signed']"
      ]
     },
     "execution_count": 8,
     "metadata": {},
     "output_type": "execute_result"
    }
   ],
   "source": [
    "categorical_columns"
   ]
  },
  {
   "cell_type": "markdown",
   "metadata": {},
   "source": [
    "Ratio"
   ]
  },
  {
   "cell_type": "code",
   "execution_count": 6,
   "metadata": {},
   "outputs": [],
   "source": [
    "credit['BALANCE_TO_LIMIT_RATIO'] = credit['AMT_BALANCE'] / credit['AMT_CREDIT_LIMIT_ACTUAL']\n",
    "credit['PAYMENT_CURRENT_TO_MIN_REGULAR_RATIO'] = credit['AMT_PAYMENT_CURRENT'] / credit['AMT_INST_MIN_REGULARITY']\n",
    "credit['DRAWING_LIMIT_RATIO'] = credit['AMT_DRAWINGS_ATM_CURRENT'] / credit['AMT_CREDIT_LIMIT_ACTUAL']"
   ]
  },
  {
   "cell_type": "code",
   "execution_count": 7,
   "metadata": {},
   "outputs": [],
   "source": [
    "credit['LATE_PAYMENT'] = credit['SK_DPD'].apply(lambda x: 1 if x > 0 else 0)"
   ]
  },
  {
   "cell_type": "code",
   "execution_count": 14,
   "metadata": {},
   "outputs": [],
   "source": [
    "categorical_agg = {col: ['mean'] for col in categorical_columns}\n",
    "credit_agg = group(credit, 'CREDIT_', {** CREDIT_CARD_AGG, ** categorical_agg})"
   ]
  },
  {
   "cell_type": "code",
   "execution_count": 13,
   "metadata": {},
   "outputs": [],
   "source": [
    "CREDIT_CARD_AGG = {\n",
    "    'SK_ID_PREV': ['nunique'],\n",
    "    'MONTHS_BALANCE': ['min'],\n",
    "    'AMT_BALANCE': ['max'],\n",
    "    'AMT_CREDIT_LIMIT_ACTUAL': ['max'],\n",
    "    'AMT_DRAWINGS_ATM_CURRENT': ['max', 'sum'],\n",
    "    'AMT_DRAWINGS_CURRENT': ['max', 'sum'],\n",
    "    'AMT_DRAWINGS_POS_CURRENT': ['max', 'sum'],\n",
    "    'AMT_INST_MIN_REGULARITY': ['max', 'mean'],\n",
    "    'AMT_PAYMENT_TOTAL_CURRENT': ['max', 'mean', 'sum', 'var'],\n",
    "    'AMT_TOTAL_RECEIVABLE': ['max', 'mean'],\n",
    "    'CNT_DRAWINGS_ATM_CURRENT': ['max', 'mean', 'sum'],\n",
    "    'CNT_DRAWINGS_CURRENT': ['max', 'mean', 'sum'],\n",
    "    'CNT_DRAWINGS_POS_CURRENT': ['mean'],\n",
    "    'SK_DPD': ['mean', 'max', 'sum'],\n",
    "    'SK_DPD_DEF': ['max', 'sum'],\n",
    "    'BALANCE_TO_LIMIT_RATIO': ['max', 'mean'],\n",
    "    'PAYMENT_CURRENT_TO_MIN_REGULAR_RATIO': ['min', 'mean'],\n",
    "    'LATE_PAYMENT': ['max', 'sum'],\n",
    "}"
   ]
  },
  {
   "cell_type": "code",
   "execution_count": 22,
   "metadata": {},
   "outputs": [],
   "source": [
    "## Aggregate for last x months\n",
    "for months in [12, 24, 36, 48]:\n",
    "    credit_prev_ids = credit[credit['MONTHS_BALANCE'] >= -months]['SK_ID_PREV'].unique()\n",
    "    last_x_month_prev = credit[credit['SK_ID_PREV'].isin(credit_prev_ids)]\n",
    "    prefix = 'CREDIT_{}M_'.format(months)\n",
    "    credit_agg = group_and_merge(last_x_month_prev, credit_agg, prefix, CREDIT_CARD_TIME_AGG)"
   ]
  },
  {
   "cell_type": "code",
   "execution_count": 21,
   "metadata": {},
   "outputs": [],
   "source": [
    "CREDIT_CARD_TIME_AGG = {\n",
    "    'CNT_DRAWINGS_ATM_CURRENT': ['mean'],\n",
    "    'SK_DPD': ['max', 'sum'],\n",
    "    'AMT_BALANCE': ['mean', 'max'],\n",
    "    'BALANCE_TO_LIMIT_RATIO': ['max', 'mean'],\n",
    "}"
   ]
  },
  {
   "cell_type": "code",
   "execution_count": 3,
   "metadata": {},
   "outputs": [],
   "source": [
    "## One hot encoder\n",
    "\n",
    "def one_hot_encoder(df, nan_as_category = True):\n",
    "\n",
    "    original_columns = list(df.columns)\n",
    "    \n",
    "    categorical_columns = [col for col in df.columns if df[col].dtype == 'object']\n",
    "\n",
    "    # One hot encoder\n",
    "    df = pd.get_dummies(df, columns= categorical_columns, dummy_na= nan_as_category)\n",
    "\n",
    "    # New columns created by get_dummies\n",
    "    categorical_columns = [col for col in df.columns if col not in original_columns]\n",
    "\n",
    "    return df, categorical_columns"
   ]
  },
  {
   "cell_type": "code",
   "execution_count": 24,
   "metadata": {},
   "outputs": [],
   "source": [
    "credit_agg.to_parquet('TO_TRAIN/credit.gzip', compression= 'gzip', index= False)"
   ]
  },
  {
   "cell_type": "code",
   "execution_count": 4,
   "metadata": {},
   "outputs": [],
   "source": [
    "# Function to aggregate numeric columns \n",
    "def group(df_to_agg, prefix, aggregations, aggregate_by= 'SK_ID_CURR'):\n",
    "    agg_df = df_to_agg.groupby(aggregate_by).agg(aggregations)\n",
    "    agg_df.columns = pd.Index(['{}{}_{}'.format(prefix, e[0], e[1].upper())\n",
    "                               for e in agg_df.columns.tolist()])\n",
    "    return agg_df.reset_index()\n",
    "\n",
    "# Function to merge numeric and categorical after aggregate\n",
    "def group_and_merge(df_to_agg, df_to_merge, prefix, aggregations, aggregate_by= 'SK_ID_CURR'):\n",
    "    agg_df = group(df_to_agg, prefix, aggregations, aggregate_by= aggregate_by)\n",
    "    return df_to_merge.merge(agg_df, how='left', on= aggregate_by)"
   ]
  }
 ],
 "metadata": {
  "kernelspec": {
   "display_name": "Python 3.9.12 ('base')",
   "language": "python",
   "name": "python3"
  },
  "language_info": {
   "codemirror_mode": {
    "name": "ipython",
    "version": 3
   },
   "file_extension": ".py",
   "mimetype": "text/x-python",
   "name": "python",
   "nbconvert_exporter": "python",
   "pygments_lexer": "ipython3",
   "version": "3.9.12"
  },
  "orig_nbformat": 4,
  "vscode": {
   "interpreter": {
    "hash": "cbbf29e62cd5103f0785fc846693ce8698ed050f8e69bcd7649d2aec785d2f26"
   }
  }
 },
 "nbformat": 4,
 "nbformat_minor": 2
}
